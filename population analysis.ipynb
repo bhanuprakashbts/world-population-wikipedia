{
 "cells": [
  {
   "cell_type": "code",
   "execution_count": 17,
   "metadata": {
    "collapsed": true
   },
   "outputs": [],
   "source": [
    "import pandas as pd\n",
    "# Importpopulation data from wikipedia webpage\n",
    "data = pd.read_html('https://en.wikipedia.org/wiki/List_of_countries_by_population_(United_Nations)',header=0)[2]"
   ]
  },
  {
   "cell_type": "code",
   "execution_count": 24,
   "metadata": {
    "collapsed": true,
    "scrolled": true
   },
   "outputs": [],
   "source": [
    "import os\n",
    "os.chdir(\"E:\\mypractice\\Python\\Jigsaw\")"
   ]
  },
  {
   "cell_type": "code",
   "execution_count": 30,
   "metadata": {
    "collapsed": true
   },
   "outputs": [],
   "source": [
    "writer = pd.ExcelWriter('Population.xlsx')\n",
    "data.to_excel(writer,\"population\")\n",
    "writer.save()"
   ]
  },
  {
   "cell_type": "code",
   "execution_count": 19,
   "metadata": {
    "collapsed": true
   },
   "outputs": [],
   "source": [
    "# add percentage change column\n",
    "data[\"change_pct\"] = round(((data[\"Population(1 July 2017)[3]\"]-data[\"Population(1 July 2016)[3]\"])/data[\"Population(1 July 2016)[3]\"])*100,1)"
   ]
  },
  {
   "cell_type": "code",
   "execution_count": 20,
   "metadata": {
    "collapsed": true
   },
   "outputs": [],
   "source": [
    "data = data.drop(\"Change\",axis = 1)"
   ]
  },
  {
   "cell_type": "code",
   "execution_count": 21,
   "metadata": {},
   "outputs": [
    {
     "data": {
      "text/html": [
       "<div>\n",
       "<style>\n",
       "    .dataframe thead tr:only-child th {\n",
       "        text-align: right;\n",
       "    }\n",
       "\n",
       "    .dataframe thead th {\n",
       "        text-align: left;\n",
       "    }\n",
       "\n",
       "    .dataframe tbody tr th {\n",
       "        vertical-align: top;\n",
       "    }\n",
       "</style>\n",
       "<table border=\"1\" class=\"dataframe\">\n",
       "  <thead>\n",
       "    <tr style=\"text-align: right;\">\n",
       "      <th></th>\n",
       "      <th>Rank</th>\n",
       "      <th>Country or area</th>\n",
       "      <th>UN continentalregion[2]</th>\n",
       "      <th>UN statisticalregion[2]</th>\n",
       "      <th>Population(1 July 2016)[3]</th>\n",
       "      <th>Population(1 July 2017)[3]</th>\n",
       "      <th>change_pct</th>\n",
       "    </tr>\n",
       "  </thead>\n",
       "  <tbody>\n",
       "    <tr>\n",
       "      <th>0</th>\n",
       "      <td>—</td>\n",
       "      <td>World</td>\n",
       "      <td>—</td>\n",
       "      <td>—</td>\n",
       "      <td>7466964280</td>\n",
       "      <td>7550262101</td>\n",
       "      <td>1.1</td>\n",
       "    </tr>\n",
       "    <tr>\n",
       "      <th>1</th>\n",
       "      <td>1</td>\n",
       "      <td>China[a]</td>\n",
       "      <td>Asia</td>\n",
       "      <td>Eastern Asia</td>\n",
       "      <td>1403500365</td>\n",
       "      <td>1409517397</td>\n",
       "      <td>0.4</td>\n",
       "    </tr>\n",
       "    <tr>\n",
       "      <th>2</th>\n",
       "      <td>2</td>\n",
       "      <td>India</td>\n",
       "      <td>Asia</td>\n",
       "      <td>Southern Asia</td>\n",
       "      <td>1324171354</td>\n",
       "      <td>1339180127</td>\n",
       "      <td>1.1</td>\n",
       "    </tr>\n",
       "    <tr>\n",
       "      <th>3</th>\n",
       "      <td>3</td>\n",
       "      <td>United States</td>\n",
       "      <td>Americas</td>\n",
       "      <td>Northern America</td>\n",
       "      <td>322179605</td>\n",
       "      <td>324459463</td>\n",
       "      <td>0.7</td>\n",
       "    </tr>\n",
       "    <tr>\n",
       "      <th>4</th>\n",
       "      <td>4</td>\n",
       "      <td>Indonesia</td>\n",
       "      <td>Asia</td>\n",
       "      <td>South-eastern Asia</td>\n",
       "      <td>261115456</td>\n",
       "      <td>263991379</td>\n",
       "      <td>1.1</td>\n",
       "    </tr>\n",
       "  </tbody>\n",
       "</table>\n",
       "</div>"
      ],
      "text/plain": [
       "  Rank Country or area UN continentalregion[2] UN statisticalregion[2]  \\\n",
       "0    —           World                       —                       —   \n",
       "1    1        China[a]                    Asia            Eastern Asia   \n",
       "2    2           India                    Asia           Southern Asia   \n",
       "3    3   United States                Americas        Northern America   \n",
       "4    4       Indonesia                    Asia      South-eastern Asia   \n",
       "\n",
       "   Population(1 July 2016)[3]  Population(1 July 2017)[3]  change_pct  \n",
       "0                  7466964280                  7550262101         1.1  \n",
       "1                  1403500365                  1409517397         0.4  \n",
       "2                  1324171354                  1339180127         1.1  \n",
       "3                   322179605                   324459463         0.7  \n",
       "4                   261115456                   263991379         1.1  "
      ]
     },
     "execution_count": 21,
     "metadata": {},
     "output_type": "execute_result"
    }
   ],
   "source": [
    "data.head()"
   ]
  },
  {
   "cell_type": "code",
   "execution_count": 6,
   "metadata": {},
   "outputs": [
    {
     "data": {
      "text/plain": [
       "Rank                           object\n",
       "Country or area                object\n",
       "UN continentalregion[2]        object\n",
       "UN statisticalregion[2]        object\n",
       "Population(1 July 2016)[3]      int64\n",
       "Population(1 July 2017)[3]      int64\n",
       "change_pct                    float64\n",
       "dtype: object"
      ]
     },
     "execution_count": 6,
     "metadata": {},
     "output_type": "execute_result"
    }
   ],
   "source": [
    "data.dtypes"
   ]
  },
  {
   "cell_type": "code",
   "execution_count": 22,
   "metadata": {},
   "outputs": [
    {
     "data": {
      "text/plain": [
       "Rank                          0\n",
       "Country or area               0\n",
       "UN continentalregion[2]       0\n",
       "UN statisticalregion[2]       0\n",
       "Population(1 July 2016)[3]    0\n",
       "Population(1 July 2017)[3]    0\n",
       "change_pct                    0\n",
       "dtype: int64"
      ]
     },
     "execution_count": 22,
     "metadata": {},
     "output_type": "execute_result"
    }
   ],
   "source": [
    "data.isnull().sum()"
   ]
  },
  {
   "cell_type": "code",
   "execution_count": 23,
   "metadata": {},
   "outputs": [
    {
     "name": "stderr",
     "output_type": "stream",
     "text": [
      "E:\\Anaconda\\lib\\site-packages\\pandas\\core\\indexing.py:179: SettingWithCopyWarning: \n",
      "A value is trying to be set on a copy of a slice from a DataFrame\n",
      "\n",
      "See the caveats in the documentation: http://pandas.pydata.org/pandas-docs/stable/indexing.html#indexing-view-versus-copy\n",
      "  self._setitem_with_indexer(indexer, value)\n"
     ]
    }
   ],
   "source": [
    "data['Rank'].iloc[0] = 0"
   ]
  },
  {
   "cell_type": "code",
   "execution_count": 24,
   "metadata": {},
   "outputs": [
    {
     "data": {
      "text/plain": [
       "(234, 7)"
      ]
     },
     "execution_count": 24,
     "metadata": {},
     "output_type": "execute_result"
    }
   ],
   "source": [
    "data.shape"
   ]
  },
  {
   "cell_type": "code",
   "execution_count": 25,
   "metadata": {},
   "outputs": [
    {
     "data": {
      "text/plain": [
       "Index(['Rank', 'Country or area', 'UN continentalregion[2]',\n",
       "       'UN statisticalregion[2]', 'Population(1 July 2016)[3]',\n",
       "       'Population(1 July 2017)[3]', 'change_pct'],\n",
       "      dtype='object')"
      ]
     },
     "execution_count": 25,
     "metadata": {},
     "output_type": "execute_result"
    }
   ],
   "source": [
    "data.columns"
   ]
  },
  {
   "cell_type": "code",
   "execution_count": 99,
   "metadata": {},
   "outputs": [
    {
     "name": "stdout",
     "output_type": "stream",
     "text": [
      "Number of Countries in the List are 234\n",
      "Number of Continental Regions in the List are 6\n",
      "Number of Statistical Regions in the List are 23\n"
     ]
    }
   ],
   "source": [
    "print(\"Number of Countries in the List are \" + str(len(data['Country or area'].unique())))\n",
    "print(\"Number of Continental Regions in the List are \" + str(len(data['UN continentalregion[2]'].unique())))\n",
    "print(\"Number of Statistical Regions in the List are \" + str(len(data['UN statisticalregion[2]'].unique())))"
   ]
  },
  {
   "cell_type": "code",
   "execution_count": 12,
   "metadata": {},
   "outputs": [
    {
     "data": {
      "text/html": [
       "<div>\n",
       "<style>\n",
       "    .dataframe thead tr:only-child th {\n",
       "        text-align: right;\n",
       "    }\n",
       "\n",
       "    .dataframe thead th {\n",
       "        text-align: left;\n",
       "    }\n",
       "\n",
       "    .dataframe tbody tr th {\n",
       "        vertical-align: top;\n",
       "    }\n",
       "</style>\n",
       "<table border=\"1\" class=\"dataframe\">\n",
       "  <thead>\n",
       "    <tr style=\"text-align: right;\">\n",
       "      <th></th>\n",
       "      <th>Rank</th>\n",
       "      <th>Country or area</th>\n",
       "      <th>UN continentalregion[2]</th>\n",
       "      <th>UN statisticalregion[2]</th>\n",
       "      <th>Population(1 July 2016)[3]</th>\n",
       "      <th>Population(1 July 2017)[3]</th>\n",
       "      <th>change_pct</th>\n",
       "    </tr>\n",
       "  </thead>\n",
       "  <tbody>\n",
       "    <tr>\n",
       "      <th>1</th>\n",
       "      <td>1</td>\n",
       "      <td>China[a]</td>\n",
       "      <td>Asia</td>\n",
       "      <td>Eastern Asia</td>\n",
       "      <td>1403500365</td>\n",
       "      <td>1409517397</td>\n",
       "      <td>0.4</td>\n",
       "    </tr>\n",
       "    <tr>\n",
       "      <th>2</th>\n",
       "      <td>2</td>\n",
       "      <td>India</td>\n",
       "      <td>Asia</td>\n",
       "      <td>Southern Asia</td>\n",
       "      <td>1324171354</td>\n",
       "      <td>1339180127</td>\n",
       "      <td>1.1</td>\n",
       "    </tr>\n",
       "    <tr>\n",
       "      <th>3</th>\n",
       "      <td>3</td>\n",
       "      <td>United States</td>\n",
       "      <td>Americas</td>\n",
       "      <td>Northern America</td>\n",
       "      <td>322179605</td>\n",
       "      <td>324459463</td>\n",
       "      <td>0.7</td>\n",
       "    </tr>\n",
       "    <tr>\n",
       "      <th>4</th>\n",
       "      <td>4</td>\n",
       "      <td>Indonesia</td>\n",
       "      <td>Asia</td>\n",
       "      <td>South-eastern Asia</td>\n",
       "      <td>261115456</td>\n",
       "      <td>263991379</td>\n",
       "      <td>1.1</td>\n",
       "    </tr>\n",
       "    <tr>\n",
       "      <th>5</th>\n",
       "      <td>5</td>\n",
       "      <td>Brazil</td>\n",
       "      <td>Americas</td>\n",
       "      <td>South America</td>\n",
       "      <td>207652865</td>\n",
       "      <td>209288278</td>\n",
       "      <td>0.8</td>\n",
       "    </tr>\n",
       "  </tbody>\n",
       "</table>\n",
       "</div>"
      ],
      "text/plain": [
       "  Rank Country or area UN continentalregion[2] UN statisticalregion[2]  \\\n",
       "1    1        China[a]                    Asia            Eastern Asia   \n",
       "2    2           India                    Asia           Southern Asia   \n",
       "3    3   United States                Americas        Northern America   \n",
       "4    4       Indonesia                    Asia      South-eastern Asia   \n",
       "5    5          Brazil                Americas           South America   \n",
       "\n",
       "   Population(1 July 2016)[3]  Population(1 July 2017)[3]  change_pct  \n",
       "1                  1403500365                  1409517397         0.4  \n",
       "2                  1324171354                  1339180127         1.1  \n",
       "3                   322179605                   324459463         0.7  \n",
       "4                   261115456                   263991379         1.1  \n",
       "5                   207652865                   209288278         0.8  "
      ]
     },
     "execution_count": 12,
     "metadata": {},
     "output_type": "execute_result"
    }
   ],
   "source": [
    "data.drop([0],axis=0).head()"
   ]
  },
  {
   "cell_type": "code",
   "execution_count": 10,
   "metadata": {
    "collapsed": true
   },
   "outputs": [],
   "source": [
    "import numpy as np"
   ]
  },
  {
   "cell_type": "code",
   "execution_count": 114,
   "metadata": {},
   "outputs": [
    {
     "data": {
      "text/plain": [
       "4462676731"
      ]
     },
     "execution_count": 114,
     "metadata": {},
     "output_type": "execute_result"
    }
   ],
   "source": [
    "# Population total in Asian Countries\n",
    "data[data['UN continentalregion[2]']=='Asia']['Population(1 July 2016)[3]'].sum()"
   ]
  },
  {
   "cell_type": "code",
   "execution_count": 39,
   "metadata": {},
   "outputs": [
    {
     "data": {
      "text/html": [
       "<div>\n",
       "<style>\n",
       "    .dataframe thead tr:only-child th {\n",
       "        text-align: right;\n",
       "    }\n",
       "\n",
       "    .dataframe thead th {\n",
       "        text-align: left;\n",
       "    }\n",
       "\n",
       "    .dataframe tbody tr th {\n",
       "        vertical-align: top;\n",
       "    }\n",
       "</style>\n",
       "<table border=\"1\" class=\"dataframe\">\n",
       "  <thead>\n",
       "    <tr style=\"text-align: right;\">\n",
       "      <th></th>\n",
       "      <th>Rank</th>\n",
       "      <th>Country or area</th>\n",
       "      <th>UN continentalregion[2]</th>\n",
       "      <th>UN statisticalregion[2]</th>\n",
       "      <th>Population(1 July 2016)[3]</th>\n",
       "      <th>Population(1 July 2017)[3]</th>\n",
       "      <th>change_pct</th>\n",
       "    </tr>\n",
       "  </thead>\n",
       "  <tbody>\n",
       "    <tr>\n",
       "      <th>176</th>\n",
       "      <td>176</td>\n",
       "      <td>Brunei</td>\n",
       "      <td>Asia</td>\n",
       "      <td>South-eastern Asia</td>\n",
       "      <td>423196</td>\n",
       "      <td>428697</td>\n",
       "      <td>1.3</td>\n",
       "    </tr>\n",
       "    <tr>\n",
       "      <th>174</th>\n",
       "      <td>174</td>\n",
       "      <td>Maldives</td>\n",
       "      <td>Asia</td>\n",
       "      <td>Southern Asia</td>\n",
       "      <td>427756</td>\n",
       "      <td>436330</td>\n",
       "      <td>2.0</td>\n",
       "    </tr>\n",
       "    <tr>\n",
       "      <th>167</th>\n",
       "      <td>167</td>\n",
       "      <td>Macau</td>\n",
       "      <td>Asia</td>\n",
       "      <td>Eastern Asia</td>\n",
       "      <td>612167</td>\n",
       "      <td>622567</td>\n",
       "      <td>1.7</td>\n",
       "    </tr>\n",
       "    <tr>\n",
       "      <th>164</th>\n",
       "      <td>164</td>\n",
       "      <td>Bhutan</td>\n",
       "      <td>Asia</td>\n",
       "      <td>Southern Asia</td>\n",
       "      <td>797765</td>\n",
       "      <td>807610</td>\n",
       "      <td>1.2</td>\n",
       "    </tr>\n",
       "    <tr>\n",
       "      <th>159</th>\n",
       "      <td>159</td>\n",
       "      <td>Cyprus[q]</td>\n",
       "      <td>Asia</td>\n",
       "      <td>Western Asia</td>\n",
       "      <td>1170125</td>\n",
       "      <td>1179551</td>\n",
       "      <td>0.8</td>\n",
       "    </tr>\n",
       "  </tbody>\n",
       "</table>\n",
       "</div>"
      ],
      "text/plain": [
       "    Rank Country or area UN continentalregion[2] UN statisticalregion[2]  \\\n",
       "176  176          Brunei                    Asia      South-eastern Asia   \n",
       "174  174        Maldives                    Asia           Southern Asia   \n",
       "167  167           Macau                    Asia            Eastern Asia   \n",
       "164  164          Bhutan                    Asia           Southern Asia   \n",
       "159  159       Cyprus[q]                    Asia            Western Asia   \n",
       "\n",
       "     Population(1 July 2016)[3]  Population(1 July 2017)[3]  change_pct  \n",
       "176                      423196                      428697         1.3  \n",
       "174                      427756                      436330         2.0  \n",
       "167                      612167                      622567         1.7  \n",
       "164                      797765                      807610         1.2  \n",
       "159                     1170125                     1179551         0.8  "
      ]
     },
     "execution_count": 39,
     "metadata": {},
     "output_type": "execute_result"
    }
   ],
   "source": [
    "data[data['UN continentalregion[2]']=='Asia'].sort_values('Population(1 July 2016)[3]').head()"
   ]
  },
  {
   "cell_type": "code",
   "execution_count": 40,
   "metadata": {},
   "outputs": [
    {
     "data": {
      "text/plain": [
       "Rank                           object\n",
       "Country or area                object\n",
       "UN continentalregion[2]        object\n",
       "UN statisticalregion[2]        object\n",
       "Population(1 July 2016)[3]      int64\n",
       "Population(1 July 2017)[3]      int64\n",
       "change_pct                    float64\n",
       "dtype: object"
      ]
     },
     "execution_count": 40,
     "metadata": {},
     "output_type": "execute_result"
    }
   ],
   "source": [
    "data.dtypes"
   ]
  },
  {
   "cell_type": "code",
   "execution_count": 100,
   "metadata": {},
   "outputs": [
    {
     "data": {
      "text/plain": [
       "176                  Brunei\n",
       "174                Maldives\n",
       "167                   Macau\n",
       "164                  Bhutan\n",
       "159               Cyprus[q]\n",
       "156              East Timor\n",
       "152                 Bahrain\n",
       "142                   Qatar\n",
       "138                 Armenia\n",
       "137                Mongolia\n",
       "133              Georgia[o]\n",
       "130                  Kuwait\n",
       "127                    Oman\n",
       "121            Palestine[m]\n",
       "115               Singapore\n",
       "113            Turkmenistan\n",
       "112              Kyrgyzstan\n",
       "111                 Lebanon\n",
       "106                    Laos\n",
       "104               Hong Kong\n",
       "100                  Israel\n",
       "96               Tajikistan\n",
       "94     United Arab Emirates\n",
       "92                   Jordan\n",
       "90            Azerbaijan[i]\n",
       "71                 Cambodia\n",
       "64               Kazakhstan\n",
       "63                    Syria\n",
       "58                Sri Lanka\n",
       "56                Taiwan[h]\n",
       "52              North Korea\n",
       "50                    Yemen\n",
       "48                    Nepal\n",
       "45              Malaysia[f]\n",
       "44               Uzbekistan\n",
       "41             Saudi Arabia\n",
       "40              Afghanistan\n",
       "36                     Iraq\n",
       "27              South Korea\n",
       "26                  Myanmar\n",
       "20                 Thailand\n",
       "19                   Turkey\n",
       "18                     Iran\n",
       "15                  Vietnam\n",
       "13              Philippines\n",
       "11                    Japan\n",
       "8                Bangladesh\n",
       "6                  Pakistan\n",
       "4                 Indonesia\n",
       "2                     India\n",
       "1                  China[a]\n",
       "Name: Country or area, dtype: object"
      ]
     },
     "execution_count": 100,
     "metadata": {},
     "output_type": "execute_result"
    }
   ],
   "source": [
    "data[data['UN continentalregion[2]']=='Asia'].sort_values('Population(1 July 2016)[3]')['Country or area']"
   ]
  },
  {
   "cell_type": "code",
   "execution_count": 101,
   "metadata": {},
   "outputs": [
    {
     "data": {
      "text/plain": [
       "51"
      ]
     },
     "execution_count": 101,
     "metadata": {},
     "output_type": "execute_result"
    }
   ],
   "source": [
    "len(data[data['UN continentalregion[2]']=='Asia']['Country or area'])"
   ]
  },
  {
   "cell_type": "markdown",
   "metadata": {},
   "source": [
    "Contries in Asia within Rank 50"
   ]
  },
  {
   "cell_type": "code",
   "execution_count": 102,
   "metadata": {},
   "outputs": [
    {
     "data": {
      "text/html": [
       "<div>\n",
       "<style>\n",
       "    .dataframe thead tr:only-child th {\n",
       "        text-align: right;\n",
       "    }\n",
       "\n",
       "    .dataframe thead th {\n",
       "        text-align: left;\n",
       "    }\n",
       "\n",
       "    .dataframe tbody tr th {\n",
       "        vertical-align: top;\n",
       "    }\n",
       "</style>\n",
       "<table border=\"1\" class=\"dataframe\">\n",
       "  <thead>\n",
       "    <tr style=\"text-align: right;\">\n",
       "      <th></th>\n",
       "      <th>Rank</th>\n",
       "      <th>Country or area</th>\n",
       "      <th>UN continentalregion[2]</th>\n",
       "      <th>UN statisticalregion[2]</th>\n",
       "      <th>Population(1 July 2016)[3]</th>\n",
       "      <th>Population(1 July 2017)[3]</th>\n",
       "      <th>change_pct</th>\n",
       "    </tr>\n",
       "  </thead>\n",
       "  <tbody>\n",
       "    <tr>\n",
       "      <th>1</th>\n",
       "      <td>1</td>\n",
       "      <td>China[a]</td>\n",
       "      <td>Asia</td>\n",
       "      <td>Eastern Asia</td>\n",
       "      <td>1403500365</td>\n",
       "      <td>1409517397</td>\n",
       "      <td>0.4</td>\n",
       "    </tr>\n",
       "    <tr>\n",
       "      <th>2</th>\n",
       "      <td>2</td>\n",
       "      <td>India</td>\n",
       "      <td>Asia</td>\n",
       "      <td>Southern Asia</td>\n",
       "      <td>1324171354</td>\n",
       "      <td>1339180127</td>\n",
       "      <td>1.1</td>\n",
       "    </tr>\n",
       "    <tr>\n",
       "      <th>4</th>\n",
       "      <td>4</td>\n",
       "      <td>Indonesia</td>\n",
       "      <td>Asia</td>\n",
       "      <td>South-eastern Asia</td>\n",
       "      <td>261115456</td>\n",
       "      <td>263991379</td>\n",
       "      <td>1.1</td>\n",
       "    </tr>\n",
       "    <tr>\n",
       "      <th>6</th>\n",
       "      <td>6</td>\n",
       "      <td>Pakistan</td>\n",
       "      <td>Asia</td>\n",
       "      <td>Southern Asia</td>\n",
       "      <td>193203476</td>\n",
       "      <td>197015955</td>\n",
       "      <td>2.0</td>\n",
       "    </tr>\n",
       "    <tr>\n",
       "      <th>8</th>\n",
       "      <td>8</td>\n",
       "      <td>Bangladesh</td>\n",
       "      <td>Asia</td>\n",
       "      <td>Southern Asia</td>\n",
       "      <td>162951560</td>\n",
       "      <td>164669751</td>\n",
       "      <td>1.1</td>\n",
       "    </tr>\n",
       "    <tr>\n",
       "      <th>11</th>\n",
       "      <td>11</td>\n",
       "      <td>Japan</td>\n",
       "      <td>Asia</td>\n",
       "      <td>Eastern Asia</td>\n",
       "      <td>127748513</td>\n",
       "      <td>127484450</td>\n",
       "      <td>-0.2</td>\n",
       "    </tr>\n",
       "    <tr>\n",
       "      <th>13</th>\n",
       "      <td>13</td>\n",
       "      <td>Philippines</td>\n",
       "      <td>Asia</td>\n",
       "      <td>South-eastern Asia</td>\n",
       "      <td>103320222</td>\n",
       "      <td>104918090</td>\n",
       "      <td>1.5</td>\n",
       "    </tr>\n",
       "    <tr>\n",
       "      <th>15</th>\n",
       "      <td>15</td>\n",
       "      <td>Vietnam</td>\n",
       "      <td>Asia</td>\n",
       "      <td>South-eastern Asia</td>\n",
       "      <td>94569072</td>\n",
       "      <td>95540800</td>\n",
       "      <td>1.0</td>\n",
       "    </tr>\n",
       "    <tr>\n",
       "      <th>18</th>\n",
       "      <td>18</td>\n",
       "      <td>Iran</td>\n",
       "      <td>Asia</td>\n",
       "      <td>Southern Asia</td>\n",
       "      <td>80277428</td>\n",
       "      <td>81162788</td>\n",
       "      <td>1.1</td>\n",
       "    </tr>\n",
       "    <tr>\n",
       "      <th>19</th>\n",
       "      <td>19</td>\n",
       "      <td>Turkey</td>\n",
       "      <td>Asia</td>\n",
       "      <td>Western Asia</td>\n",
       "      <td>79512426</td>\n",
       "      <td>80745020</td>\n",
       "      <td>1.6</td>\n",
       "    </tr>\n",
       "    <tr>\n",
       "      <th>20</th>\n",
       "      <td>20</td>\n",
       "      <td>Thailand</td>\n",
       "      <td>Asia</td>\n",
       "      <td>South-eastern Asia</td>\n",
       "      <td>68863514</td>\n",
       "      <td>69037513</td>\n",
       "      <td>0.3</td>\n",
       "    </tr>\n",
       "    <tr>\n",
       "      <th>26</th>\n",
       "      <td>26</td>\n",
       "      <td>Myanmar</td>\n",
       "      <td>Asia</td>\n",
       "      <td>South-eastern Asia</td>\n",
       "      <td>52885223</td>\n",
       "      <td>53370609</td>\n",
       "      <td>0.9</td>\n",
       "    </tr>\n",
       "    <tr>\n",
       "      <th>27</th>\n",
       "      <td>27</td>\n",
       "      <td>South Korea</td>\n",
       "      <td>Asia</td>\n",
       "      <td>Eastern Asia</td>\n",
       "      <td>50791919</td>\n",
       "      <td>50982212</td>\n",
       "      <td>0.4</td>\n",
       "    </tr>\n",
       "    <tr>\n",
       "      <th>36</th>\n",
       "      <td>36</td>\n",
       "      <td>Iraq</td>\n",
       "      <td>Asia</td>\n",
       "      <td>Western Asia</td>\n",
       "      <td>37202572</td>\n",
       "      <td>38274618</td>\n",
       "      <td>2.9</td>\n",
       "    </tr>\n",
       "    <tr>\n",
       "      <th>40</th>\n",
       "      <td>40</td>\n",
       "      <td>Afghanistan</td>\n",
       "      <td>Asia</td>\n",
       "      <td>Southern Asia</td>\n",
       "      <td>34656032</td>\n",
       "      <td>35530081</td>\n",
       "      <td>2.5</td>\n",
       "    </tr>\n",
       "    <tr>\n",
       "      <th>41</th>\n",
       "      <td>41</td>\n",
       "      <td>Saudi Arabia</td>\n",
       "      <td>Asia</td>\n",
       "      <td>Western Asia</td>\n",
       "      <td>32275687</td>\n",
       "      <td>32938213</td>\n",
       "      <td>2.1</td>\n",
       "    </tr>\n",
       "    <tr>\n",
       "      <th>44</th>\n",
       "      <td>44</td>\n",
       "      <td>Uzbekistan</td>\n",
       "      <td>Asia</td>\n",
       "      <td>Central Asia</td>\n",
       "      <td>31446795</td>\n",
       "      <td>31910641</td>\n",
       "      <td>1.5</td>\n",
       "    </tr>\n",
       "    <tr>\n",
       "      <th>45</th>\n",
       "      <td>45</td>\n",
       "      <td>Malaysia[f]</td>\n",
       "      <td>Asia</td>\n",
       "      <td>South-eastern Asia</td>\n",
       "      <td>31187265</td>\n",
       "      <td>31624264</td>\n",
       "      <td>1.4</td>\n",
       "    </tr>\n",
       "    <tr>\n",
       "      <th>48</th>\n",
       "      <td>48</td>\n",
       "      <td>Nepal</td>\n",
       "      <td>Asia</td>\n",
       "      <td>Southern Asia</td>\n",
       "      <td>28982771</td>\n",
       "      <td>29304998</td>\n",
       "      <td>1.1</td>\n",
       "    </tr>\n",
       "    <tr>\n",
       "      <th>50</th>\n",
       "      <td>50</td>\n",
       "      <td>Yemen</td>\n",
       "      <td>Asia</td>\n",
       "      <td>Western Asia</td>\n",
       "      <td>27584213</td>\n",
       "      <td>28250420</td>\n",
       "      <td>2.4</td>\n",
       "    </tr>\n",
       "  </tbody>\n",
       "</table>\n",
       "</div>"
      ],
      "text/plain": [
       "    Rank Country or area UN continentalregion[2] UN statisticalregion[2]  \\\n",
       "1      1        China[a]                    Asia            Eastern Asia   \n",
       "2      2           India                    Asia           Southern Asia   \n",
       "4      4       Indonesia                    Asia      South-eastern Asia   \n",
       "6      6        Pakistan                    Asia           Southern Asia   \n",
       "8      8      Bangladesh                    Asia           Southern Asia   \n",
       "11    11           Japan                    Asia            Eastern Asia   \n",
       "13    13     Philippines                    Asia      South-eastern Asia   \n",
       "15    15         Vietnam                    Asia      South-eastern Asia   \n",
       "18    18            Iran                    Asia           Southern Asia   \n",
       "19    19          Turkey                    Asia            Western Asia   \n",
       "20    20        Thailand                    Asia      South-eastern Asia   \n",
       "26    26         Myanmar                    Asia      South-eastern Asia   \n",
       "27    27     South Korea                    Asia            Eastern Asia   \n",
       "36    36            Iraq                    Asia            Western Asia   \n",
       "40    40     Afghanistan                    Asia           Southern Asia   \n",
       "41    41    Saudi Arabia                    Asia            Western Asia   \n",
       "44    44      Uzbekistan                    Asia            Central Asia   \n",
       "45    45     Malaysia[f]                    Asia      South-eastern Asia   \n",
       "48    48           Nepal                    Asia           Southern Asia   \n",
       "50    50           Yemen                    Asia            Western Asia   \n",
       "\n",
       "    Population(1 July 2016)[3]  Population(1 July 2017)[3]  change_pct  \n",
       "1                   1403500365                  1409517397         0.4  \n",
       "2                   1324171354                  1339180127         1.1  \n",
       "4                    261115456                   263991379         1.1  \n",
       "6                    193203476                   197015955         2.0  \n",
       "8                    162951560                   164669751         1.1  \n",
       "11                   127748513                   127484450        -0.2  \n",
       "13                   103320222                   104918090         1.5  \n",
       "15                    94569072                    95540800         1.0  \n",
       "18                    80277428                    81162788         1.1  \n",
       "19                    79512426                    80745020         1.6  \n",
       "20                    68863514                    69037513         0.3  \n",
       "26                    52885223                    53370609         0.9  \n",
       "27                    50791919                    50982212         0.4  \n",
       "36                    37202572                    38274618         2.9  \n",
       "40                    34656032                    35530081         2.5  \n",
       "41                    32275687                    32938213         2.1  \n",
       "44                    31446795                    31910641         1.5  \n",
       "45                    31187265                    31624264         1.4  \n",
       "48                    28982771                    29304998         1.1  \n",
       "50                    27584213                    28250420         2.4  "
      ]
     },
     "execution_count": 102,
     "metadata": {},
     "output_type": "execute_result"
    }
   ],
   "source": [
    "data.Rank = data.Rank.astype('int')\n",
    "data[(data['UN continentalregion[2]']=='Asia')&(data['Rank']<=50)]"
   ]
  },
  {
   "cell_type": "code",
   "execution_count": 48,
   "metadata": {},
   "outputs": [
    {
     "data": {
      "text/html": [
       "<div>\n",
       "<style>\n",
       "    .dataframe thead tr:only-child th {\n",
       "        text-align: right;\n",
       "    }\n",
       "\n",
       "    .dataframe thead th {\n",
       "        text-align: left;\n",
       "    }\n",
       "\n",
       "    .dataframe tbody tr th {\n",
       "        vertical-align: top;\n",
       "    }\n",
       "</style>\n",
       "<table border=\"1\" class=\"dataframe\">\n",
       "  <thead>\n",
       "    <tr style=\"text-align: right;\">\n",
       "      <th></th>\n",
       "      <th>UN continentalregion[2]</th>\n",
       "      <th>Population(1 July 2016)[3]</th>\n",
       "    </tr>\n",
       "  </thead>\n",
       "  <tbody>\n",
       "    <tr>\n",
       "      <th>0</th>\n",
       "      <td>Africa</td>\n",
       "      <td>1225080510</td>\n",
       "    </tr>\n",
       "    <tr>\n",
       "      <th>1</th>\n",
       "      <td>Americas</td>\n",
       "      <td>997642449</td>\n",
       "    </tr>\n",
       "    <tr>\n",
       "      <th>2</th>\n",
       "      <td>Asia</td>\n",
       "      <td>4462676731</td>\n",
       "    </tr>\n",
       "    <tr>\n",
       "      <th>3</th>\n",
       "      <td>Europe</td>\n",
       "      <td>744347158</td>\n",
       "    </tr>\n",
       "    <tr>\n",
       "      <th>4</th>\n",
       "      <td>Oceania</td>\n",
       "      <td>40117432</td>\n",
       "    </tr>\n",
       "  </tbody>\n",
       "</table>\n",
       "</div>"
      ],
      "text/plain": [
       "  UN continentalregion[2]  Population(1 July 2016)[3]\n",
       "0                  Africa                  1225080510\n",
       "1                Americas                   997642449\n",
       "2                    Asia                  4462676731\n",
       "3                  Europe                   744347158\n",
       "4                 Oceania                    40117432"
      ]
     },
     "execution_count": 48,
     "metadata": {},
     "output_type": "execute_result"
    }
   ],
   "source": [
    "Y = data.groupby('UN continentalregion[2]',as_index=False).agg({'Population(1 July 2016)[3]':sum}).loc[0:4,:]\n",
    "Y"
   ]
  },
  {
   "cell_type": "code",
   "execution_count": 73,
   "metadata": {},
   "outputs": [
    {
     "data": {
      "image/png": "[encoded data removed]",
      "text/plain": [
       "<Figure size 432x288 with 1 Axes>"
      ]
     },
     "metadata": {},
     "output_type": "display_data"
    }
   ],
   "source": [
    "labels = Y[\"UN continentalregion[2]\"].tolist()\n",
    "plt.pie(Y[\"Population(1 July 2016)[3]\"], labels = labels,pctdistance=0.6, autopct='%1.1f%%',shadow=True, labeldistance=1.1)\n",
    "plt.title(\"World Population Percentage by Continents\")\n",
    "plt.show()"
   ]
  },
  {
   "cell_type": "code",
   "execution_count": 77,
   "metadata": {
    "collapsed": true
   },
   "outputs": [],
   "source": [
    "Z =pd.DataFrame(data[\"UN statisticalregion[2]\"].value_counts())"
   ]
  },
  {
   "cell_type": "code",
   "execution_count": 85,
   "metadata": {},
   "outputs": [
    {
     "data": {
      "text/html": [
       "<div>\n",
       "<style>\n",
       "    .dataframe thead tr:only-child th {\n",
       "        text-align: right;\n",
       "    }\n",
       "\n",
       "    .dataframe thead th {\n",
       "        text-align: left;\n",
       "    }\n",
       "\n",
       "    .dataframe tbody tr th {\n",
       "        vertical-align: top;\n",
       "    }\n",
       "</style>\n",
       "<table border=\"1\" class=\"dataframe\">\n",
       "  <thead>\n",
       "    <tr style=\"text-align: right;\">\n",
       "      <th></th>\n",
       "      <th>UN statisticalregion[2]</th>\n",
       "      <th>Region</th>\n",
       "    </tr>\n",
       "  </thead>\n",
       "  <tbody>\n",
       "    <tr>\n",
       "      <th>Caribbean</th>\n",
       "      <td>26</td>\n",
       "      <td>Caribbean</td>\n",
       "    </tr>\n",
       "    <tr>\n",
       "      <th>Eastern Africa</th>\n",
       "      <td>20</td>\n",
       "      <td>Eastern Africa</td>\n",
       "    </tr>\n",
       "    <tr>\n",
       "      <th>Western Asia</th>\n",
       "      <td>18</td>\n",
       "      <td>Western Asia</td>\n",
       "    </tr>\n",
       "    <tr>\n",
       "      <th>Western Africa</th>\n",
       "      <td>17</td>\n",
       "      <td>Western Africa</td>\n",
       "    </tr>\n",
       "    <tr>\n",
       "      <th>Southern Europe</th>\n",
       "      <td>16</td>\n",
       "      <td>Southern Europe</td>\n",
       "    </tr>\n",
       "  </tbody>\n",
       "</table>\n",
       "</div>"
      ],
      "text/plain": [
       "                 UN statisticalregion[2]           Region\n",
       "Caribbean                             26        Caribbean\n",
       "Eastern Africa                        20   Eastern Africa\n",
       "Western Asia                          18     Western Asia\n",
       "Western Africa                        17   Western Africa\n",
       "Southern Europe                       16  Southern Europe"
      ]
     },
     "execution_count": 85,
     "metadata": {},
     "output_type": "execute_result"
    }
   ],
   "source": [
    "Z[\"Region\"] = Z.index\n",
    "Z.head()"
   ]
  },
  {
   "cell_type": "code",
   "execution_count": 92,
   "metadata": {},
   "outputs": [
    {
     "data": {
      "image/png": "[encoded data removed]",
      "text/plain": [
       "<Figure size 432x288 with 1 Axes>"
      ]
     },
     "metadata": {},
     "output_type": "display_data"
    }
   ],
   "source": [
    "labels = Z.Region.tolist()\n",
    "plt.pie(Z[\"UN statisticalregion[2]\"], labels = labels,pctdistance=0.6,rotatelabels = True,radius=2.5, autopct='%1.1f%%',shadow=True, labeldistance=1.1)\n",
    "plt.title(\"Number of Countries in Statistical Regions\")\n",
    "plt.show()"
   ]
  },
  {
   "cell_type": "code",
   "execution_count": null,
   "metadata": {
    "collapsed": true
   },
   "outputs": [],
   "source": []
  }
 ],
 "metadata": {
  "kernelspec": {
   "display_name": "Python 3",
   "language": "python",
   "name": "python3"
  },
  "language_info": {
   "codemirror_mode": {
    "name": "ipython",
    "version": 3
   },
   "file_extension": ".py",
   "mimetype": "text/x-python",
   "name": "python",
   "nbconvert_exporter": "python",
   "pygments_lexer": "ipython3",
   "version": "3.6.3"
  }
 },
 "nbformat": 4,
 "nbformat_minor": 2
}
